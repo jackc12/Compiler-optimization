{
 "cells": [
  {
   "cell_type": "code",
   "execution_count": 1,
   "metadata": {},
   "outputs": [],
   "source": [
    "import torch\n",
    "import torch.nn as nn\n",
    "import torch.nn.functional as F\n",
    "import torch.optim as optim"
   ]
  },
  {
   "cell_type": "code",
   "execution_count": 2,
   "metadata": {},
   "outputs": [],
   "source": [
    "device = torch.device('cuda:0' if torch.cuda.is_available() else 'cpu')"
   ]
  },
  {
   "cell_type": "code",
   "execution_count": 3,
   "metadata": {},
   "outputs": [
    {
     "data": {
      "text/plain": [
       "Net(\n",
       "  (pool1): MaxPool1d(kernel_size=2, stride=2, padding=1, dilation=1, ceil_mode=False)\n",
       "  (conv1): Conv1d(1, 10, kernel_size=(5,), stride=(1,), padding=(3,))\n",
       "  (conv2): Conv1d(10, 20, kernel_size=(5,), stride=(1,), padding=(3,))\n",
       "  (conv3): Conv1d(20, 10, kernel_size=(5,), stride=(1,), padding=(3,))\n",
       "  (conv4): Conv1d(10, 1, kernel_size=(5,), stride=(1,), padding=(3,))\n",
       "  (fc1): Linear(in_features=21, out_features=150, bias=True)\n",
       "  (dropout): Dropout(p=0.2, inplace=False)\n",
       "  (fc2): Linear(in_features=150, out_features=200, bias=True)\n",
       "  (batch_norm): BatchNorm1d(1, eps=1e-05, momentum=0.1, affine=True, track_running_stats=True)\n",
       "  (fc3): Linear(in_features=200, out_features=100, bias=True)\n",
       "  (fc4): Linear(in_features=100, out_features=5, bias=True)\n",
       ")"
      ]
     },
     "execution_count": 3,
     "metadata": {},
     "output_type": "execute_result"
    }
   ],
   "source": [
    "from net import net\n",
    "losses = []\n",
    "net = net.to(device)\n",
    "net.train()"
   ]
  },
  {
   "cell_type": "code",
   "execution_count": 4,
   "metadata": {},
   "outputs": [],
   "source": [
    "#Set hyperparameters\n",
    "batch_size = 32\n",
    "epochs = 50\n",
    "lr=1e-4\n",
    "weight_decay = 1e-4\n",
    "\n",
    "criterion = nn.MSELoss()\n",
    "optimizer = optim.Adam(net.parameters(), lr=lr, weight_decay=weight_decay)"
   ]
  },
  {
   "cell_type": "code",
   "execution_count": 5,
   "metadata": {},
   "outputs": [
    {
     "name": "stdout",
     "output_type": "stream",
     "text": [
      "torch.Size([2944, 290])\n",
      " epoch 0 loss: 8.687483578920364\n",
      " epoch 49 loss: 5.513947602361441\n"
     ]
    }
   ],
   "source": [
    "#Get Train set\n",
    "from train_set import train_set\n",
    "train_set = train_set.to(device)\n",
    "\n",
    "#Training loop\n",
    "for epoch in range(epochs):\n",
    "    \n",
    "    #Set loss to zero\n",
    "    running_loss = 0.0\n",
    "    \n",
    "    #Shuffle training set\n",
    "    shuffled_train_set = train_set[torch.randperm(train_set.shape[0])]\n",
    "    \n",
    "    for start_index in range(0, shuffled_train_set.shape[0] - batch_size, batch_size):\n",
    "        \n",
    "        #get batches\n",
    "        X = shuffled_train_set[start_index:start_index + batch_size, :-5].view(batch_size,1,285)\n",
    "        y = shuffled_train_set[start_index:start_index + batch_size, -5:]\n",
    "        \n",
    "        #zero gradients\n",
    "        optimizer.zero_grad()\n",
    "        \n",
    "        #forward pass\n",
    "        outputs = net(X).view(batch_size,5)\n",
    "        \n",
    "        #get loss\n",
    "        loss = criterion(outputs, y)\n",
    "        \n",
    "        #backward pass\n",
    "        loss.backward()\n",
    "        optimizer.step()\n",
    "        running_loss += loss.item()\n",
    "#     print('{} epoch {} loss: {}'.format('YAH', epoch if epoch > len(losses) else len(losses), running_loss))\n",
    "    \n",
    "    if epoch % 50 == 49 or epoch == 0:    # print every 10 epochs\n",
    "        print('{} epoch {} loss: {}'.format('', epoch if epoch > len(losses) else len(losses), running_loss))\n",
    "    losses.append(running_loss)\n"
   ]
  },
  {
   "cell_type": "code",
   "execution_count": 6,
   "metadata": {},
   "outputs": [],
   "source": [
    "# from plot_losses import plot_losses\n",
    "# plot_losses(losses)"
   ]
  },
  {
   "cell_type": "code",
   "execution_count": 7,
   "metadata": {},
   "outputs": [
    {
     "name": "stdout",
     "output_type": "stream",
     "text": [
      "Test Loss: 0.059868265\n"
     ]
    }
   ],
   "source": [
    "from sklearn.metrics import mean_squared_error\n",
    "\n",
    "from predict import predict\n",
    "from plot_execution_times import plot_execution_times\n",
    "from test_set import test_set\n",
    "test_set = test_set.to(device)\n",
    "net.eval()\n",
    "\n",
    "\n",
    "predictions = predict(net, 32, test_set)\n",
    "\n",
    "print('Test Loss:', mean_squared_error(test_set[:,-5:], predictions))\n",
    "plot_execution_times(predictions, test_set[:, -5:])\n",
    "\n"
   ]
  },
  {
   "cell_type": "code",
   "execution_count": 8,
   "metadata": {},
   "outputs": [
    {
     "data": {
      "text/html": [
       "<div>\n",
       "<style scoped>\n",
       "    .dataframe tbody tr th:only-of-type {\n",
       "        vertical-align: middle;\n",
       "    }\n",
       "\n",
       "    .dataframe tbody tr th {\n",
       "        vertical-align: top;\n",
       "    }\n",
       "\n",
       "    .dataframe thead th {\n",
       "        text-align: right;\n",
       "    }\n",
       "</style>\n",
       "<table border=\"1\" class=\"dataframe\">\n",
       "  <thead>\n",
       "    <tr style=\"text-align: right;\">\n",
       "      <th></th>\n",
       "      <th>APP_NAME</th>\n",
       "      <th>funsafe_math_optimizations</th>\n",
       "      <th>fno_guess_branch_probability</th>\n",
       "      <th>fno_ivopts</th>\n",
       "      <th>fno_tree_loop_optimize</th>\n",
       "      <th>fno_inline_functions</th>\n",
       "      <th>funroll_all_loops</th>\n",
       "      <th>o2</th>\n",
       "      <th>code_size</th>\n",
       "      <th>noBasicBlock</th>\n",
       "      <th>...</th>\n",
       "      <th>mem_write_global_stride_0_5</th>\n",
       "      <th>mem_write_global_stride_8_5</th>\n",
       "      <th>mem_write_global_stride_64_5</th>\n",
       "      <th>mem_write_global_stride_512_5</th>\n",
       "      <th>mem_write_global_stride_4096_5</th>\n",
       "      <th>execution_time_1</th>\n",
       "      <th>execution_time_2</th>\n",
       "      <th>execution_time_3</th>\n",
       "      <th>execution_time_4</th>\n",
       "      <th>execution_time_5</th>\n",
       "    </tr>\n",
       "  </thead>\n",
       "  <tbody>\n",
       "    <tr>\n",
       "      <th>0</th>\n",
       "      <td>automotive_bitcount</td>\n",
       "      <td>0</td>\n",
       "      <td>0</td>\n",
       "      <td>0</td>\n",
       "      <td>0</td>\n",
       "      <td>0</td>\n",
       "      <td>0</td>\n",
       "      <td>0</td>\n",
       "      <td>457478</td>\n",
       "      <td>129</td>\n",
       "      <td>...</td>\n",
       "      <td>2</td>\n",
       "      <td>3630</td>\n",
       "      <td>71760056</td>\n",
       "      <td>71761599</td>\n",
       "      <td>71761792</td>\n",
       "      <td>2010.64</td>\n",
       "      <td>3302.71</td>\n",
       "      <td>4770.88</td>\n",
       "      <td>6314.60</td>\n",
       "      <td>7889.87</td>\n",
       "    </tr>\n",
       "    <tr>\n",
       "      <th>1</th>\n",
       "      <td>automotive_bitcount</td>\n",
       "      <td>0</td>\n",
       "      <td>0</td>\n",
       "      <td>0</td>\n",
       "      <td>0</td>\n",
       "      <td>0</td>\n",
       "      <td>0</td>\n",
       "      <td>1</td>\n",
       "      <td>457478</td>\n",
       "      <td>129</td>\n",
       "      <td>...</td>\n",
       "      <td>2</td>\n",
       "      <td>3630</td>\n",
       "      <td>71760056</td>\n",
       "      <td>71761599</td>\n",
       "      <td>71761792</td>\n",
       "      <td>1777.07</td>\n",
       "      <td>3251.86</td>\n",
       "      <td>4731.59</td>\n",
       "      <td>6372.31</td>\n",
       "      <td>8459.09</td>\n",
       "    </tr>\n",
       "    <tr>\n",
       "      <th>2</th>\n",
       "      <td>automotive_bitcount</td>\n",
       "      <td>0</td>\n",
       "      <td>0</td>\n",
       "      <td>0</td>\n",
       "      <td>0</td>\n",
       "      <td>0</td>\n",
       "      <td>1</td>\n",
       "      <td>0</td>\n",
       "      <td>461574</td>\n",
       "      <td>129</td>\n",
       "      <td>...</td>\n",
       "      <td>2</td>\n",
       "      <td>3630</td>\n",
       "      <td>71760056</td>\n",
       "      <td>71761599</td>\n",
       "      <td>71761792</td>\n",
       "      <td>2504.95</td>\n",
       "      <td>3295.54</td>\n",
       "      <td>4645.23</td>\n",
       "      <td>6286.89</td>\n",
       "      <td>7816.15</td>\n",
       "    </tr>\n",
       "    <tr>\n",
       "      <th>3</th>\n",
       "      <td>automotive_bitcount</td>\n",
       "      <td>0</td>\n",
       "      <td>0</td>\n",
       "      <td>0</td>\n",
       "      <td>0</td>\n",
       "      <td>0</td>\n",
       "      <td>1</td>\n",
       "      <td>1</td>\n",
       "      <td>461574</td>\n",
       "      <td>129</td>\n",
       "      <td>...</td>\n",
       "      <td>2</td>\n",
       "      <td>3630</td>\n",
       "      <td>71760056</td>\n",
       "      <td>71761599</td>\n",
       "      <td>71761792</td>\n",
       "      <td>1715.03</td>\n",
       "      <td>3143.13</td>\n",
       "      <td>4557.01</td>\n",
       "      <td>6103.12</td>\n",
       "      <td>7736.70</td>\n",
       "    </tr>\n",
       "    <tr>\n",
       "      <th>4</th>\n",
       "      <td>automotive_bitcount</td>\n",
       "      <td>0</td>\n",
       "      <td>0</td>\n",
       "      <td>0</td>\n",
       "      <td>0</td>\n",
       "      <td>1</td>\n",
       "      <td>0</td>\n",
       "      <td>0</td>\n",
       "      <td>457478</td>\n",
       "      <td>129</td>\n",
       "      <td>...</td>\n",
       "      <td>2</td>\n",
       "      <td>3630</td>\n",
       "      <td>71760056</td>\n",
       "      <td>71761599</td>\n",
       "      <td>71761792</td>\n",
       "      <td>1695.72</td>\n",
       "      <td>3151.09</td>\n",
       "      <td>4782.62</td>\n",
       "      <td>6558.69</td>\n",
       "      <td>8059.82</td>\n",
       "    </tr>\n",
       "  </tbody>\n",
       "</table>\n",
       "<p>5 rows × 292 columns</p>\n",
       "</div>"
      ],
      "text/plain": [
       "              APP_NAME  funsafe_math_optimizations  \\\n",
       "0  automotive_bitcount                           0   \n",
       "1  automotive_bitcount                           0   \n",
       "2  automotive_bitcount                           0   \n",
       "3  automotive_bitcount                           0   \n",
       "4  automotive_bitcount                           0   \n",
       "\n",
       "   fno_guess_branch_probability  fno_ivopts  fno_tree_loop_optimize  \\\n",
       "0                             0           0                       0   \n",
       "1                             0           0                       0   \n",
       "2                             0           0                       0   \n",
       "3                             0           0                       0   \n",
       "4                             0           0                       0   \n",
       "\n",
       "   fno_inline_functions  funroll_all_loops  o2  code_size  noBasicBlock  \\\n",
       "0                     0                  0   0     457478           129   \n",
       "1                     0                  0   1     457478           129   \n",
       "2                     0                  1   0     461574           129   \n",
       "3                     0                  1   1     461574           129   \n",
       "4                     1                  0   0     457478           129   \n",
       "\n",
       "         ...         mem_write_global_stride_0_5  mem_write_global_stride_8_5  \\\n",
       "0        ...                                   2                         3630   \n",
       "1        ...                                   2                         3630   \n",
       "2        ...                                   2                         3630   \n",
       "3        ...                                   2                         3630   \n",
       "4        ...                                   2                         3630   \n",
       "\n",
       "   mem_write_global_stride_64_5  mem_write_global_stride_512_5  \\\n",
       "0                      71760056                       71761599   \n",
       "1                      71760056                       71761599   \n",
       "2                      71760056                       71761599   \n",
       "3                      71760056                       71761599   \n",
       "4                      71760056                       71761599   \n",
       "\n",
       "   mem_write_global_stride_4096_5  execution_time_1  execution_time_2  \\\n",
       "0                        71761792           2010.64           3302.71   \n",
       "1                        71761792           1777.07           3251.86   \n",
       "2                        71761792           2504.95           3295.54   \n",
       "3                        71761792           1715.03           3143.13   \n",
       "4                        71761792           1695.72           3151.09   \n",
       "\n",
       "   execution_time_3  execution_time_4  execution_time_5  \n",
       "0           4770.88           6314.60           7889.87  \n",
       "1           4731.59           6372.31           8459.09  \n",
       "2           4645.23           6286.89           7816.15  \n",
       "3           4557.01           6103.12           7736.70  \n",
       "4           4782.62           6558.69           8059.82  \n",
       "\n",
       "[5 rows x 292 columns]"
      ]
     },
     "execution_count": 8,
     "metadata": {},
     "output_type": "execute_result"
    }
   ],
   "source": [
    "import pandas as pd\n",
    "pd.read_csv('../data/data.csv').head()"
   ]
  },
  {
   "cell_type": "code",
   "execution_count": 9,
   "metadata": {},
   "outputs": [
    {
     "data": {
      "text/plain": [
       "(2944, 290)"
      ]
     },
     "execution_count": 9,
     "metadata": {},
     "output_type": "execute_result"
    }
   ],
   "source": [
    "pd.read_csv('../data/train.csv').shape"
   ]
  },
  {
   "cell_type": "code",
   "execution_count": 10,
   "metadata": {},
   "outputs": [
    {
     "data": {
      "text/plain": [
       "torch.Size([2944, 290])"
      ]
     },
     "execution_count": 10,
     "metadata": {},
     "output_type": "execute_result"
    }
   ],
   "source": [
    "train_set.shape"
   ]
  },
  {
   "cell_type": "code",
   "execution_count": 11,
   "metadata": {},
   "outputs": [
    {
     "data": {
      "text/plain": [
       "torch.Size([2944, 290])"
      ]
     },
     "execution_count": 11,
     "metadata": {},
     "output_type": "execute_result"
    }
   ],
   "source": [
    "shuffled_train_set.shape"
   ]
  },
  {
   "cell_type": "code",
   "execution_count": 12,
   "metadata": {},
   "outputs": [
    {
     "data": {
      "text/html": [
       "<div>\n",
       "<style scoped>\n",
       "    .dataframe tbody tr th:only-of-type {\n",
       "        vertical-align: middle;\n",
       "    }\n",
       "\n",
       "    .dataframe tbody tr th {\n",
       "        vertical-align: top;\n",
       "    }\n",
       "\n",
       "    .dataframe thead th {\n",
       "        text-align: right;\n",
       "    }\n",
       "</style>\n",
       "<table border=\"1\" class=\"dataframe\">\n",
       "  <thead>\n",
       "    <tr style=\"text-align: right;\">\n",
       "      <th></th>\n",
       "      <th>0</th>\n",
       "      <th>1</th>\n",
       "      <th>2</th>\n",
       "      <th>3</th>\n",
       "      <th>4</th>\n",
       "      <th>5</th>\n",
       "      <th>6</th>\n",
       "      <th>7</th>\n",
       "      <th>8</th>\n",
       "      <th>9</th>\n",
       "      <th>...</th>\n",
       "      <th>280</th>\n",
       "      <th>281</th>\n",
       "      <th>282</th>\n",
       "      <th>283</th>\n",
       "      <th>284</th>\n",
       "      <th>285</th>\n",
       "      <th>286</th>\n",
       "      <th>287</th>\n",
       "      <th>288</th>\n",
       "      <th>289</th>\n",
       "    </tr>\n",
       "  </thead>\n",
       "  <tbody>\n",
       "    <tr>\n",
       "      <th>0</th>\n",
       "      <td>0.0</td>\n",
       "      <td>0.0</td>\n",
       "      <td>0.0</td>\n",
       "      <td>0.0</td>\n",
       "      <td>0.0</td>\n",
       "      <td>0.0</td>\n",
       "      <td>0.0</td>\n",
       "      <td>0.01385</td>\n",
       "      <td>0.007697</td>\n",
       "      <td>0.008361</td>\n",
       "      <td>...</td>\n",
       "      <td>0.0</td>\n",
       "      <td>0.0</td>\n",
       "      <td>1.0</td>\n",
       "      <td>1.0</td>\n",
       "      <td>1.0</td>\n",
       "      <td>0.495221</td>\n",
       "      <td>0.238190</td>\n",
       "      <td>0.228175</td>\n",
       "      <td>0.371269</td>\n",
       "      <td>0.304226</td>\n",
       "    </tr>\n",
       "    <tr>\n",
       "      <th>1</th>\n",
       "      <td>0.0</td>\n",
       "      <td>0.0</td>\n",
       "      <td>0.0</td>\n",
       "      <td>0.0</td>\n",
       "      <td>0.0</td>\n",
       "      <td>0.0</td>\n",
       "      <td>1.0</td>\n",
       "      <td>0.01385</td>\n",
       "      <td>0.007697</td>\n",
       "      <td>0.008361</td>\n",
       "      <td>...</td>\n",
       "      <td>0.0</td>\n",
       "      <td>0.0</td>\n",
       "      <td>1.0</td>\n",
       "      <td>1.0</td>\n",
       "      <td>1.0</td>\n",
       "      <td>0.256704</td>\n",
       "      <td>0.201959</td>\n",
       "      <td>0.205199</td>\n",
       "      <td>0.421513</td>\n",
       "      <td>0.643068</td>\n",
       "    </tr>\n",
       "    <tr>\n",
       "      <th>2</th>\n",
       "      <td>0.0</td>\n",
       "      <td>0.0</td>\n",
       "      <td>0.0</td>\n",
       "      <td>0.0</td>\n",
       "      <td>0.0</td>\n",
       "      <td>1.0</td>\n",
       "      <td>0.0</td>\n",
       "      <td>0.01385</td>\n",
       "      <td>0.007697</td>\n",
       "      <td>0.008361</td>\n",
       "      <td>...</td>\n",
       "      <td>0.0</td>\n",
       "      <td>0.0</td>\n",
       "      <td>1.0</td>\n",
       "      <td>1.0</td>\n",
       "      <td>1.0</td>\n",
       "      <td>1.000000</td>\n",
       "      <td>0.233082</td>\n",
       "      <td>0.154697</td>\n",
       "      <td>0.347144</td>\n",
       "      <td>0.260343</td>\n",
       "    </tr>\n",
       "    <tr>\n",
       "      <th>3</th>\n",
       "      <td>0.0</td>\n",
       "      <td>0.0</td>\n",
       "      <td>0.0</td>\n",
       "      <td>0.0</td>\n",
       "      <td>0.0</td>\n",
       "      <td>1.0</td>\n",
       "      <td>1.0</td>\n",
       "      <td>0.01385</td>\n",
       "      <td>0.007697</td>\n",
       "      <td>0.008361</td>\n",
       "      <td>...</td>\n",
       "      <td>0.0</td>\n",
       "      <td>0.0</td>\n",
       "      <td>1.0</td>\n",
       "      <td>1.0</td>\n",
       "      <td>1.0</td>\n",
       "      <td>0.193350</td>\n",
       "      <td>0.124489</td>\n",
       "      <td>0.103108</td>\n",
       "      <td>0.187150</td>\n",
       "      <td>0.213048</td>\n",
       "    </tr>\n",
       "    <tr>\n",
       "      <th>4</th>\n",
       "      <td>0.0</td>\n",
       "      <td>0.0</td>\n",
       "      <td>0.0</td>\n",
       "      <td>0.0</td>\n",
       "      <td>1.0</td>\n",
       "      <td>0.0</td>\n",
       "      <td>0.0</td>\n",
       "      <td>0.01385</td>\n",
       "      <td>0.007697</td>\n",
       "      <td>0.008361</td>\n",
       "      <td>...</td>\n",
       "      <td>0.0</td>\n",
       "      <td>0.0</td>\n",
       "      <td>1.0</td>\n",
       "      <td>1.0</td>\n",
       "      <td>1.0</td>\n",
       "      <td>0.173631</td>\n",
       "      <td>0.130160</td>\n",
       "      <td>0.235040</td>\n",
       "      <td>0.583780</td>\n",
       "      <td>0.405393</td>\n",
       "    </tr>\n",
       "  </tbody>\n",
       "</table>\n",
       "<p>5 rows × 290 columns</p>\n",
       "</div>"
      ],
      "text/plain": [
       "     0    1    2    3    4    5    6        7         8         9    ...     \\\n",
       "0  0.0  0.0  0.0  0.0  0.0  0.0  0.0  0.01385  0.007697  0.008361    ...      \n",
       "1  0.0  0.0  0.0  0.0  0.0  0.0  1.0  0.01385  0.007697  0.008361    ...      \n",
       "2  0.0  0.0  0.0  0.0  0.0  1.0  0.0  0.01385  0.007697  0.008361    ...      \n",
       "3  0.0  0.0  0.0  0.0  0.0  1.0  1.0  0.01385  0.007697  0.008361    ...      \n",
       "4  0.0  0.0  0.0  0.0  1.0  0.0  0.0  0.01385  0.007697  0.008361    ...      \n",
       "\n",
       "   280  281  282  283  284       285       286       287       288       289  \n",
       "0  0.0  0.0  1.0  1.0  1.0  0.495221  0.238190  0.228175  0.371269  0.304226  \n",
       "1  0.0  0.0  1.0  1.0  1.0  0.256704  0.201959  0.205199  0.421513  0.643068  \n",
       "2  0.0  0.0  1.0  1.0  1.0  1.000000  0.233082  0.154697  0.347144  0.260343  \n",
       "3  0.0  0.0  1.0  1.0  1.0  0.193350  0.124489  0.103108  0.187150  0.213048  \n",
       "4  0.0  0.0  1.0  1.0  1.0  0.173631  0.130160  0.235040  0.583780  0.405393  \n",
       "\n",
       "[5 rows x 290 columns]"
      ]
     },
     "execution_count": 12,
     "metadata": {},
     "output_type": "execute_result"
    }
   ],
   "source": [
    "a = pd.read_csv('../data/train.csv')\n",
    "a.head()"
   ]
  },
  {
   "cell_type": "code",
   "execution_count": 13,
   "metadata": {},
   "outputs": [
    {
     "data": {
      "text/html": [
       "<div>\n",
       "<style scoped>\n",
       "    .dataframe tbody tr th:only-of-type {\n",
       "        vertical-align: middle;\n",
       "    }\n",
       "\n",
       "    .dataframe tbody tr th {\n",
       "        vertical-align: top;\n",
       "    }\n",
       "\n",
       "    .dataframe thead th {\n",
       "        text-align: right;\n",
       "    }\n",
       "</style>\n",
       "<table border=\"1\" class=\"dataframe\">\n",
       "  <thead>\n",
       "    <tr style=\"text-align: right;\">\n",
       "      <th></th>\n",
       "      <th>285</th>\n",
       "      <th>286</th>\n",
       "      <th>287</th>\n",
       "      <th>288</th>\n",
       "      <th>289</th>\n",
       "    </tr>\n",
       "  </thead>\n",
       "  <tbody>\n",
       "    <tr>\n",
       "      <th>1</th>\n",
       "      <td>0.256704</td>\n",
       "      <td>0.201959</td>\n",
       "      <td>0.205199</td>\n",
       "      <td>0.421513</td>\n",
       "      <td>0.643068</td>\n",
       "    </tr>\n",
       "    <tr>\n",
       "      <th>129</th>\n",
       "      <td>0.670327</td>\n",
       "      <td>0.290783</td>\n",
       "      <td>0.341691</td>\n",
       "      <td>0.350988</td>\n",
       "      <td>0.320186</td>\n",
       "    </tr>\n",
       "    <tr>\n",
       "      <th>257</th>\n",
       "      <td>0.096539</td>\n",
       "      <td>0.384868</td>\n",
       "      <td>0.296153</td>\n",
       "      <td>0.531731</td>\n",
       "      <td>0.284996</td>\n",
       "    </tr>\n",
       "    <tr>\n",
       "      <th>385</th>\n",
       "      <td>0.273013</td>\n",
       "      <td>0.102675</td>\n",
       "      <td>0.172963</td>\n",
       "      <td>0.157704</td>\n",
       "      <td>0.094440</td>\n",
       "    </tr>\n",
       "    <tr>\n",
       "      <th>513</th>\n",
       "      <td>0.112813</td>\n",
       "      <td>0.173979</td>\n",
       "      <td>0.163832</td>\n",
       "      <td>0.378732</td>\n",
       "      <td>0.169299</td>\n",
       "    </tr>\n",
       "  </tbody>\n",
       "</table>\n",
       "</div>"
      ],
      "text/plain": [
       "          285       286       287       288       289\n",
       "1    0.256704  0.201959  0.205199  0.421513  0.643068\n",
       "129  0.670327  0.290783  0.341691  0.350988  0.320186\n",
       "257  0.096539  0.384868  0.296153  0.531731  0.284996\n",
       "385  0.273013  0.102675  0.172963  0.157704  0.094440\n",
       "513  0.112813  0.173979  0.163832  0.378732  0.169299"
      ]
     },
     "execution_count": 13,
     "metadata": {},
     "output_type": "execute_result"
    }
   ],
   "source": [
    "a.iloc[1::128,-5:].head()"
   ]
  },
  {
   "cell_type": "code",
   "execution_count": 14,
   "metadata": {},
   "outputs": [],
   "source": [
    "# a[(a[0] == 0) & (a[1] == 0) & (a[2] == 0) & (a[3] == 0) & (a[4] == 0) & (a[5] == 0) & (a[6] == 1)].iloc[:,-5:].sum(axis=1).values[0]\n",
    "\n"
   ]
  },
  {
   "cell_type": "code",
   "execution_count": 15,
   "metadata": {},
   "outputs": [],
   "source": [
    "# for i in range(0,2994 - 128,128):\n",
    "#     shuffled_train_set = train_set[i:i+128,:][torch.randperm(128)]\n",
    "#     train_predictions, optimizations = predict(net, 32, shuffled_train_set), shuffled_train_set\n",
    "#     a = pd.DataFrame(shuffled_train_set.numpy())\n",
    "#     best_optimizations = train_predictions.sum(axis=1).argmin()\n",
    "#     prediction = shuffled_train_set[best_optimizations, -5:].sum(axis=0)\n",
    "#     o2 = a[(a[0] == 0) & (a[1] == 0) & (a[2] == 0) & (a[3] == 0) & (a[4] == 0) & (a[5] == 0) & (a[6] == 1)].iloc[:,-5:].sum(axis=1).values[0]\n",
    "#     print('predictions: ', prediction)\n",
    "#     print('O2:          ', o2)\n",
    "#     print(apps[i//128],'speedup w.r.t. O2:', (prediction/o2) + 1)\n",
    "# #     print(apps[i//128],'speedup w.r.t. O2:', (o2/prediction))\n",
    "\n"
   ]
  },
  {
   "cell_type": "code",
   "execution_count": 9,
   "metadata": {},
   "outputs": [
    {
     "data": {
      "image/png": "[encoded data removed]",
      "text/plain": [
       "<Figure size 720x288 with 1 Axes>"
      ]
     },
     "metadata": {
      "needs_background": "light"
     },
     "output_type": "display_data"
    }
   ],
   "source": [
    "from plot_speedups import plot_speedups\n",
    "\n",
    "plot_speedups()"
   ]
  },
  {
   "cell_type": "code",
   "execution_count": 80,
   "metadata": {},
   "outputs": [
    {
     "data": {
      "text/plain": [
       "torch.Size([3072, 290])"
      ]
     },
     "execution_count": 80,
     "metadata": {},
     "output_type": "execute_result"
    }
   ],
   "source": [
    "torch.cat([train_set[:2304], test_set, train_set[2304:]]).shape"
   ]
  },
  {
   "cell_type": "code",
   "execution_count": 83,
   "metadata": {},
   "outputs": [],
   "source": [
    "apps = pd.read_csv('../data/data.csv').iloc[:,0].unique()"
   ]
  },
  {
   "cell_type": "code",
   "execution_count": 88,
   "metadata": {},
   "outputs": [
    {
     "name": "stdout",
     "output_type": "stream",
     "text": [
      "predictions:  1.4714278\n",
      "O2:           1.7284434\n",
      "automotive_bitcount speedup w.r.t. O2: 1.8513022661209106\n",
      "predictions:  1.1373895\n",
      "O2:           1.9739734\n",
      "automotive_qsort1 speedup w.r.t. O2: 1.5761929154396057\n",
      "predictions:  1.3380486\n",
      "O2:           1.5942869\n",
      "automotive_susan_c speedup w.r.t. O2: 1.8392771482467651\n",
      "predictions:  1.2764318\n",
      "O2:           0.8007946\n",
      "automotive_susan_e speedup w.r.t. O2: 2.5939565896987915\n",
      "predictions:  1.2900043\n",
      "O2:           0.99865514\n",
      "automotive_susan_s speedup w.r.t. O2: 2.2917414903640747\n",
      "predictions:  2.4958973\n",
      "O2:           1.2173597\n",
      "security_blowfish_d speedup w.r.t. O2: 3.0502545833587646\n",
      "predictions:  2.4959483\n",
      "O2:           3.1297991\n",
      "security_blowfish_e speedup w.r.t. O2: 1.79747873544693\n",
      "predictions:  3.5085294\n",
      "O2:           4.022327\n",
      "security_rijndael_d speedup w.r.t. O2: 1.8722636103630066\n",
      "predictions:  3.503634\n",
      "O2:           3.7752023\n",
      "security_rijndael_e speedup w.r.t. O2: 1.9280652403831482\n",
      "predictions:  2.4053817\n",
      "O2:           3.4995973\n",
      "security_sha speedup w.r.t. O2: 1.687330961227417\n",
      "predictions:  1.7659873\n",
      "O2:           1.4097342\n",
      "telecom_adpcm_c speedup w.r.t. O2: 2.25270938873291\n",
      "predictions:  1.9739016\n",
      "O2:           2.3802686\n",
      "telecom_adpcm_d speedup w.r.t. O2: 1.8292768597602844\n",
      "predictions:  1.0899073\n",
      "O2:           1.175819\n",
      "telecom_CRC32 speedup w.r.t. O2: 1.926934540271759\n",
      "predictions:  2.2271843\n",
      "O2:           3.9881663\n",
      "consumer_jpeg_c speedup w.r.t. O2: 1.5584481954574585\n",
      "predictions:  3.5073502\n",
      "O2:           3.9701204\n",
      "consumer_jpeg_d speedup w.r.t. O2: 1.8834367394447327\n",
      "predictions:  3.3475132\n",
      "O2:           3.6921082\n",
      "consumer_tiff2bw speedup w.r.t. O2: 1.906667172908783\n",
      "predictions:  3.5991554\n",
      "O2:           4.1255317\n",
      "consumer_tiff2rgba speedup w.r.t. O2: 1.8724100589752197\n",
      "predictions:  1.9016278\n",
      "O2:           2.2956285\n",
      "consumer_tiffdither speedup w.r.t. O2: 1.828369140625\n",
      "predictions:  1.9988135\n",
      "O2:           2.321162\n",
      "consumer_tiffmedian speedup w.r.t. O2: 1.8611262440681458\n",
      "predictions:  2.0829475\n",
      "O2:           3.751033\n",
      "network_dijkstra speedup w.r.t. O2: 1.555299699306488\n",
      "predictions:  2.1414366\n",
      "O2:           4.6373706\n",
      "network_patricia speedup w.r.t. O2: 1.4617781937122345\n",
      "predictions:  2.8697333\n",
      "O2:           4.130497\n",
      "office_stringsearch1 speedup w.r.t. O2: 1.6947670578956604\n",
      "predictions:  1.4091074\n",
      "O2:           1.351743\n",
      "bzip2d speedup w.r.t. O2: 2.042437434196472\n",
      "predictions:  1.2639177\n",
      "O2:           1.2623336\n",
      "bzip2e speedup w.r.t. O2: 2.001254916191101\n"
     ]
    }
   ],
   "source": [
    "speedups = {}\n",
    "data = torch.cat([train_set[:2304], test_set, train_set[2304:]])\n",
    "for i in range(0,3072,128):\n",
    "    shuffled_data = data[i:i+128,:][torch.randperm(128)]\n",
    "    train_predictions, optimizations = predict(net, 32, shuffled_data), shuffled_data\n",
    "    a = pd.DataFrame(shuffled_data.numpy())\n",
    "    prediction = train_predictions.sum(axis=1).min()\n",
    "    o2 = a[(a[0] == 0) & (a[1] == 0) & (a[2] == 0) & (a[3] == 0) & (a[4] == 0) & (a[5] == 0) & (a[6] == 1)].iloc[:,-5:].sum(axis=1).values[0]\n",
    "    print('predictions: ', prediction)\n",
    "    print('O2:          ', o2)\n",
    "    print(apps[i//128],'speedup w.r.t. O2:', (prediction/o2) + 1)\n",
    "    speedups[apps[i//128]] = (prediction/o2) + 1\n",
    "#     print(apps[i//128],'speedup w.r.t. O2:', (o2/prediction))"
   ]
  },
  {
   "cell_type": "code",
   "execution_count": 73,
   "metadata": {},
   "outputs": [
    {
     "data": {
      "text/plain": [
       "2303    consumer_tiffdither\n",
       "2304    consumer_tiffmedian\n",
       "2305    consumer_tiffmedian\n",
       "2306    consumer_tiffmedian\n",
       "2307    consumer_tiffmedian\n",
       "2308    consumer_tiffmedian\n",
       "2309    consumer_tiffmedian\n",
       "2310    consumer_tiffmedian\n",
       "2311    consumer_tiffmedian\n",
       "2312    consumer_tiffmedian\n",
       "2313    consumer_tiffmedian\n",
       "2314    consumer_tiffmedian\n",
       "2315    consumer_tiffmedian\n",
       "2316    consumer_tiffmedian\n",
       "2317    consumer_tiffmedian\n",
       "2318    consumer_tiffmedian\n",
       "2319    consumer_tiffmedian\n",
       "2320    consumer_tiffmedian\n",
       "2321    consumer_tiffmedian\n",
       "2322    consumer_tiffmedian\n",
       "2323    consumer_tiffmedian\n",
       "2324    consumer_tiffmedian\n",
       "2325    consumer_tiffmedian\n",
       "2326    consumer_tiffmedian\n",
       "2327    consumer_tiffmedian\n",
       "2328    consumer_tiffmedian\n",
       "2329    consumer_tiffmedian\n",
       "2330    consumer_tiffmedian\n",
       "2331    consumer_tiffmedian\n",
       "2332    consumer_tiffmedian\n",
       "               ...         \n",
       "3042                 bzip2e\n",
       "3043                 bzip2e\n",
       "3044                 bzip2e\n",
       "3045                 bzip2e\n",
       "3046                 bzip2e\n",
       "3047                 bzip2e\n",
       "3048                 bzip2e\n",
       "3049                 bzip2e\n",
       "3050                 bzip2e\n",
       "3051                 bzip2e\n",
       "3052                 bzip2e\n",
       "3053                 bzip2e\n",
       "3054                 bzip2e\n",
       "3055                 bzip2e\n",
       "3056                 bzip2e\n",
       "3057                 bzip2e\n",
       "3058                 bzip2e\n",
       "3059                 bzip2e\n",
       "3060                 bzip2e\n",
       "3061                 bzip2e\n",
       "3062                 bzip2e\n",
       "3063                 bzip2e\n",
       "3064                 bzip2e\n",
       "3065                 bzip2e\n",
       "3066                 bzip2e\n",
       "3067                 bzip2e\n",
       "3068                 bzip2e\n",
       "3069                 bzip2e\n",
       "3070                 bzip2e\n",
       "3071                 bzip2e\n",
       "Name: APP_NAME, Length: 769, dtype: object"
      ]
     },
     "execution_count": 73,
     "metadata": {},
     "output_type": "execute_result"
    }
   ],
   "source": [
    "pd.read_csv('../data/data.csv').iloc[2304:,0]#.unique()"
   ]
  },
  {
   "cell_type": "code",
   "execution_count": 55,
   "metadata": {},
   "outputs": [],
   "source": []
  },
  {
   "cell_type": "code",
   "execution_count": 66,
   "metadata": {},
   "outputs": [
    {
     "data": {
      "text/plain": [
       "torch.Size([3072, 290])"
      ]
     },
     "execution_count": 66,
     "metadata": {},
     "output_type": "execute_result"
    }
   ],
   "source": [
    "torch.cat([train_set, test_set]).shape"
   ]
  },
  {
   "cell_type": "code",
   "execution_count": 59,
   "metadata": {},
   "outputs": [
    {
     "name": "stdout",
     "output_type": "stream",
     "text": [
      "predictions:  1.4714278\n",
      "O2:           1.7284434\n",
      "automotive_bitcount speedup w.r.t. O2: 1.8513022661209106\n",
      "predictions:  1.1373895\n",
      "O2:           1.9739734\n",
      "automotive_qsort1 speedup w.r.t. O2: 1.5761929154396057\n",
      "predictions:  1.3380486\n",
      "O2:           1.5942869\n",
      "automotive_susan_c speedup w.r.t. O2: 1.8392771482467651\n",
      "predictions:  1.2764318\n",
      "O2:           0.8007946\n",
      "automotive_susan_e speedup w.r.t. O2: 2.5939565896987915\n",
      "predictions:  1.2900043\n",
      "O2:           0.99865514\n",
      "automotive_susan_s speedup w.r.t. O2: 2.2917414903640747\n",
      "predictions:  2.4958973\n",
      "O2:           1.2173597\n",
      "security_blowfish_d speedup w.r.t. O2: 3.0502545833587646\n",
      "predictions:  2.4959483\n",
      "O2:           3.1297991\n",
      "security_blowfish_e speedup w.r.t. O2: 1.79747873544693\n",
      "predictions:  3.5085294\n",
      "O2:           4.022327\n",
      "security_rijndael_d speedup w.r.t. O2: 1.8722636103630066\n",
      "predictions:  3.503634\n",
      "O2:           3.7752023\n",
      "security_rijndael_e speedup w.r.t. O2: 1.9280652403831482\n",
      "predictions:  2.4053817\n",
      "O2:           3.4995973\n",
      "security_sha speedup w.r.t. O2: 1.687330961227417\n",
      "predictions:  1.7659873\n",
      "O2:           1.4097342\n",
      "telecom_adpcm_c speedup w.r.t. O2: 2.25270938873291\n",
      "predictions:  1.9739016\n",
      "O2:           2.3802686\n",
      "telecom_adpcm_d speedup w.r.t. O2: 1.8292768597602844\n",
      "predictions:  1.0899073\n",
      "O2:           1.175819\n",
      "telecom_CRC32 speedup w.r.t. O2: 1.926934540271759\n",
      "predictions:  2.2271843\n",
      "O2:           3.9881663\n",
      "consumer_jpeg_c speedup w.r.t. O2: 1.5584481954574585\n",
      "predictions:  3.5073502\n",
      "O2:           3.9701204\n",
      "consumer_jpeg_d speedup w.r.t. O2: 1.8834367394447327\n",
      "predictions:  3.3475132\n",
      "O2:           3.6921082\n",
      "consumer_tiff2bw speedup w.r.t. O2: 1.906667172908783\n",
      "predictions:  3.5991554\n",
      "O2:           4.1255317\n",
      "consumer_tiff2rgba speedup w.r.t. O2: 1.8724100589752197\n",
      "predictions:  1.9016278\n",
      "O2:           2.2956285\n",
      "consumer_tiffdither speedup w.r.t. O2: 1.828369140625\n",
      "predictions:  2.0829475\n",
      "O2:           3.751033\n",
      "network_dijkstra speedup w.r.t. O2: 1.555299699306488\n",
      "predictions:  2.1414366\n",
      "O2:           4.6373706\n",
      "network_patricia speedup w.r.t. O2: 1.4617781937122345\n",
      "predictions:  2.8697333\n",
      "O2:           4.130497\n",
      "office_stringsearch1 speedup w.r.t. O2: 1.6947670578956604\n",
      "predictions:  1.4091074\n",
      "O2:           1.351743\n",
      "bzip2d speedup w.r.t. O2: 2.042437434196472\n",
      "predictions:  1.2639177\n",
      "O2:           1.2623336\n",
      "bzip2e speedup w.r.t. O2: 2.001254916191101\n"
     ]
    }
   ],
   "source": [
    "speedups = {}\n",
    "for i in range(0,2994 - 128,128):\n",
    "    shuffled_train_set = train_set[i:i+128,:][torch.randperm(128)]\n",
    "    train_predictions, optimizations = predict(net, 32, shuffled_train_set), shuffled_train_set\n",
    "    a = pd.DataFrame(shuffled_train_set.numpy())\n",
    "    prediction = train_predictions.sum(axis=1).min()\n",
    "    o2 = a[(a[0] == 0) & (a[1] == 0) & (a[2] == 0) & (a[3] == 0) & (a[4] == 0) & (a[5] == 0) & (a[6] == 1)].iloc[:,-5:].sum(axis=1).values[0]\n",
    "    print('predictions: ', prediction)\n",
    "    print('O2:          ', o2)\n",
    "    print(apps[i//128],'speedup w.r.t. O2:', (prediction/o2) + 1)\n",
    "    speedups[apps[i//128]] = (prediction/o2) + 1\n",
    "#     print(apps[i//128],'speedup w.r.t. O2:', (o2/prediction))"
   ]
  },
  {
   "cell_type": "code",
   "execution_count": 60,
   "metadata": {},
   "outputs": [
    {
     "data": {
      "text/plain": [
       "{'automotive_bitcount': 0.85130227,\n",
       " 'automotive_qsort1': 0.5761929,\n",
       " 'automotive_susan_c': 0.83927715,\n",
       " 'automotive_susan_e': 1.5939566,\n",
       " 'automotive_susan_s': 1.2917415,\n",
       " 'security_blowfish_d': 2.0502546,\n",
       " 'security_blowfish_e': 0.79747874,\n",
       " 'security_rijndael_d': 0.8722636,\n",
       " 'security_rijndael_e': 0.92806524,\n",
       " 'security_sha': 0.68733096,\n",
       " 'telecom_adpcm_c': 1.2527094,\n",
       " 'telecom_adpcm_d': 0.82927686,\n",
       " 'telecom_CRC32': 0.92693454,\n",
       " 'consumer_jpeg_c': 0.5584482,\n",
       " 'consumer_jpeg_d': 0.88343674,\n",
       " 'consumer_tiff2bw': 0.9066672,\n",
       " 'consumer_tiff2rgba': 0.87241006,\n",
       " 'consumer_tiffdither': 0.82836914,\n",
       " 'network_dijkstra': 0.5552997,\n",
       " 'network_patricia': 0.4617782,\n",
       " 'office_stringsearch1': 0.69476706,\n",
       " 'bzip2d': 1.0424374,\n",
       " 'bzip2e': 1.0012549}"
      ]
     },
     "execution_count": 60,
     "metadata": {},
     "output_type": "execute_result"
    }
   ],
   "source": [
    "speedups"
   ]
  },
  {
   "cell_type": "code",
   "execution_count": 61,
   "metadata": {},
   "outputs": [
    {
     "data": {
      "text/plain": [
       "[0.85130227,\n",
       " 0.5761929,\n",
       " 0.83927715,\n",
       " 1.5939566,\n",
       " 1.2917415,\n",
       " 2.0502546,\n",
       " 0.79747874,\n",
       " 0.8722636,\n",
       " 0.92806524,\n",
       " 0.68733096,\n",
       " 1.2527094,\n",
       " 0.82927686,\n",
       " 0.92693454,\n",
       " 0.5584482,\n",
       " 0.88343674,\n",
       " 0.9066672,\n",
       " 0.87241006,\n",
       " 0.82836914,\n",
       " 0.5552997,\n",
       " 0.4617782,\n",
       " 0.69476706,\n",
       " 1.0424374,\n",
       " 1.0012549]"
      ]
     },
     "execution_count": 61,
     "metadata": {},
     "output_type": "execute_result"
    }
   ],
   "source": [
    "times = []\n",
    "for app in speedups:\n",
    "    times.append(speedups[app])\n",
    "times    "
   ]
  },
  {
   "cell_type": "markdown",
   "metadata": {},
   "source": [
    "# Best optimizations from cnn"
   ]
  },
  {
   "cell_type": "code",
   "execution_count": 18,
   "metadata": {},
   "outputs": [
    {
     "data": {
      "text/plain": [
       "1.4958795"
      ]
     },
     "execution_count": 18,
     "metadata": {},
     "output_type": "execute_result"
    }
   ],
   "source": [
    "shuffled_train_set = train_set[:128,:][torch.randperm(128)]\n",
    "train_predictions, optimizations = predict(net, 32, shuffled_train_set), shuffled_train_set\n",
    "train_predictions.sum(axis=1).argmin()\n",
    "train_predictions[92].sum()"
   ]
  },
  {
   "cell_type": "markdown",
   "metadata": {},
   "source": [
    "# O3"
   ]
  },
  {
   "cell_type": "code",
   "execution_count": 19,
   "metadata": {},
   "outputs": [
    {
     "data": {
      "text/plain": [
       "29    1.728443\n",
       "dtype: float32"
      ]
     },
     "execution_count": 19,
     "metadata": {},
     "output_type": "execute_result"
    }
   ],
   "source": [
    "a = pd.DataFrame(shuffled_train_set.numpy())\n",
    "a[(a[0] == 0) & (a[1] == 0) & (a[2] == 0) & (a[3] == 0) & (a[4] == 0) & (a[5] == 0) & (a[6] == 1)].iloc[:,-5:].sum(axis=1)\n",
    "\n"
   ]
  },
  {
   "cell_type": "code",
   "execution_count": 20,
   "metadata": {},
   "outputs": [
    {
     "data": {
      "text/plain": [
       "120    1.637082\n",
       "dtype: float32"
      ]
     },
     "execution_count": 20,
     "metadata": {},
     "output_type": "execute_result"
    }
   ],
   "source": [
    "a[(a[0] == 0) & (a[1] == 0) & (a[2] == 0) & (a[3] == 0) & (a[4] == 0) & (a[5] == 0) & (a[6] == 0)].iloc[:,-5:].sum(axis=1)\n",
    "\n"
   ]
  },
  {
   "cell_type": "code",
   "execution_count": 21,
   "metadata": {},
   "outputs": [
    {
     "data": {
      "text/plain": [
       "1.1612430204708668"
      ]
     },
     "execution_count": 21,
     "metadata": {},
     "output_type": "execute_result"
    }
   ],
   "source": [
    "1.728443 / 1.4884421"
   ]
  },
  {
   "cell_type": "code",
   "execution_count": 22,
   "metadata": {},
   "outputs": [
    {
     "data": {
      "text/plain": [
       "2.0"
      ]
     },
     "execution_count": 22,
     "metadata": {},
     "output_type": "execute_result"
    }
   ],
   "source": [
    "3 / 1.5"
   ]
  },
  {
   "cell_type": "markdown",
   "metadata": {},
   "source": [
    "# Optimal"
   ]
  },
  {
   "cell_type": "code",
   "execution_count": 23,
   "metadata": {},
   "outputs": [
    {
     "data": {
      "text/plain": [
       "110"
      ]
     },
     "execution_count": 23,
     "metadata": {},
     "output_type": "execute_result"
    }
   ],
   "source": [
    "shuffled_train_set[:,-5:].sum(axis=1).argmin().item()"
   ]
  },
  {
   "cell_type": "code",
   "execution_count": 24,
   "metadata": {},
   "outputs": [
    {
     "data": {
      "text/plain": [
       "0.8319826126098633"
      ]
     },
     "execution_count": 24,
     "metadata": {},
     "output_type": "execute_result"
    }
   ],
   "source": [
    "shuffled_train_set[122, -5:].sum().item()"
   ]
  },
  {
   "cell_type": "code",
   "execution_count": 25,
   "metadata": {},
   "outputs": [],
   "source": [
    "speedup = lambda e_ref, e, e_best: (e_ref - e)/(e_ref - e_best)"
   ]
  },
  {
   "cell_type": "code",
   "execution_count": 26,
   "metadata": {},
   "outputs": [
    {
     "data": {
      "text/plain": [
       "0.17919235144373888"
      ]
     },
     "execution_count": 26,
     "metadata": {},
     "output_type": "execute_result"
    }
   ],
   "source": [
    "speedup(1.728443, 1.4884421, 0.38909509778022766)"
   ]
  },
  {
   "cell_type": "code",
   "execution_count": 27,
   "metadata": {},
   "outputs": [
    {
     "data": {
      "text/plain": [
       "78"
      ]
     },
     "execution_count": 27,
     "metadata": {},
     "output_type": "execute_result"
    }
   ],
   "source": [
    "train_predictions.sum(axis=1).argmin()"
   ]
  },
  {
   "cell_type": "code",
   "execution_count": 28,
   "metadata": {},
   "outputs": [
    {
     "data": {
      "text/plain": [
       "(23, 290)"
      ]
     },
     "execution_count": 28,
     "metadata": {},
     "output_type": "execute_result"
    }
   ],
   "source": [
    "a = pd.DataFrame(train_set.numpy())\n",
    "a[(a[0] == 0) & (a[1] == 0) & (a[2] == 0) & (a[3] == 0) & (a[4] == 0) & (a[5] == 0) & (a[6] == 1)].shape"
   ]
  },
  {
   "cell_type": "code",
   "execution_count": 29,
   "metadata": {},
   "outputs": [
    {
     "data": {
      "text/plain": [
       "array([[ 1],\n",
       "       [ 2],\n",
       "       [ 4],\n",
       "       [ 8],\n",
       "       [16],\n",
       "       [32],\n",
       "       [64]])"
      ]
     },
     "execution_count": 29,
     "metadata": {},
     "output_type": "execute_result"
    }
   ],
   "source": [
    "import numpy as np\n",
    "np.argwhere(test_set[:,:7].numpy().sum(axis=1) == 1)"
   ]
  },
  {
   "cell_type": "code",
   "execution_count": 30,
   "metadata": {},
   "outputs": [
    {
     "data": {
      "text/plain": [
       "2.1825628"
      ]
     },
     "execution_count": 30,
     "metadata": {},
     "output_type": "execute_result"
    }
   ],
   "source": [
    "test_set[:,-5:].numpy().sum(axis=1)[121]"
   ]
  },
  {
   "cell_type": "code",
   "execution_count": 31,
   "metadata": {},
   "outputs": [
    {
     "data": {
      "text/plain": [
       "array([0., 1., 1., 2., 1., 2., 2., 3., 1., 2., 2., 3., 2., 3., 3., 4., 1.,\n",
       "       2., 2., 3., 2., 3., 3., 4., 2., 3., 3., 4., 3., 4., 4., 5., 1., 2.,\n",
       "       2., 3., 2., 3., 3., 4., 2., 3., 3., 4., 3., 4., 4., 5., 2., 3., 3.,\n",
       "       4., 3., 4., 4., 5., 3., 4., 4., 5., 4., 5., 5., 6., 1., 2., 2., 3.,\n",
       "       2., 3., 3., 4., 2., 3., 3., 4., 3., 4., 4., 5., 2., 3., 3., 4., 3.,\n",
       "       4., 4., 5., 3., 4., 4., 5., 4., 5., 5., 6., 2., 3., 3., 4., 3., 4.,\n",
       "       4., 5., 3., 4., 4., 5., 4., 5., 5., 6., 3., 4., 4., 5., 4., 5., 5.,\n",
       "       6., 4., 5., 5., 6., 5., 6., 6., 7.], dtype=float32)"
      ]
     },
     "execution_count": 31,
     "metadata": {},
     "output_type": "execute_result"
    }
   ],
   "source": [
    "test_set[:,:7].numpy().sum(axis=1)"
   ]
  },
  {
   "cell_type": "code",
   "execution_count": 32,
   "metadata": {},
   "outputs": [
    {
     "data": {
      "text/plain": [
       "1.5991282"
      ]
     },
     "execution_count": 32,
     "metadata": {},
     "output_type": "execute_result"
    }
   ],
   "source": [
    "test_set[:,-5:].numpy().sum(axis=1)[0]"
   ]
  },
  {
   "cell_type": "code",
   "execution_count": 33,
   "metadata": {},
   "outputs": [
    {
     "data": {
      "text/plain": [
       "14"
      ]
     },
     "execution_count": 33,
     "metadata": {},
     "output_type": "execute_result"
    }
   ],
   "source": [
    "test_set[:,-5:].numpy().sum(axis=1).argmin()"
   ]
  },
  {
   "cell_type": "code",
   "execution_count": 34,
   "metadata": {},
   "outputs": [
    {
     "data": {
      "text/plain": [
       "(128, 5)"
      ]
     },
     "execution_count": 34,
     "metadata": {},
     "output_type": "execute_result"
    }
   ],
   "source": [
    "predictions.shape"
   ]
  },
  {
   "cell_type": "code",
   "execution_count": 35,
   "metadata": {},
   "outputs": [
    {
     "data": {
      "text/plain": [
       "34"
      ]
     },
     "execution_count": 35,
     "metadata": {},
     "output_type": "execute_result"
    }
   ],
   "source": [
    "predictions.sum(axis=1).argmin()"
   ]
  },
  {
   "cell_type": "code",
   "execution_count": 36,
   "metadata": {},
   "outputs": [
    {
     "data": {
      "text/plain": [
       "2.1574025"
      ]
     },
     "execution_count": 36,
     "metadata": {},
     "output_type": "execute_result"
    }
   ],
   "source": [
    "test_set[:,-5:].numpy().sum(axis=1)[6]"
   ]
  },
  {
   "cell_type": "code",
   "execution_count": 37,
   "metadata": {},
   "outputs": [
    {
     "data": {
      "text/plain": [
       "array([34, 44, 36, 48, 33])"
      ]
     },
     "execution_count": 37,
     "metadata": {},
     "output_type": "execute_result"
    }
   ],
   "source": [
    "predictions.sum(axis=1).argsort()[:5]"
   ]
  },
  {
   "cell_type": "code",
   "execution_count": null,
   "metadata": {},
   "outputs": [],
   "source": []
  },
  {
   "cell_type": "code",
   "execution_count": null,
   "metadata": {},
   "outputs": [],
   "source": []
  },
  {
   "cell_type": "code",
   "execution_count": null,
   "metadata": {},
   "outputs": [],
   "source": []
  }
 ],
 "metadata": {
  "kernelspec": {
   "display_name": "Python 3",
   "language": "python",
   "name": "python3"
  },
  "language_info": {
   "codemirror_mode": {
    "name": "ipython",
    "version": 3
   },
   "file_extension": ".py",
   "mimetype": "text/x-python",
   "name": "python",
   "nbconvert_exporter": "python",
   "pygments_lexer": "ipython3",
   "version": "3.7.7"
  }
 },
 "nbformat": 4,
 "nbformat_minor": 4
}
